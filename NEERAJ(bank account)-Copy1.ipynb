{
 "cells": [
  {
   "cell_type": "code",
   "execution_count": null,
   "id": "dd639605",
   "metadata": {},
   "outputs": [],
   "source": [
    "class Bank_Account:\n",
    "    Bank_name='SBI'\n",
    "    def __init__(self,account_no,holder_name,left_balance):\n",
    "        self.x=account_no\n",
    "        self.y=holder_name\n",
    "        self.z=left_balance\n",
    "    def deposit(self):\n",
    "        print('minimum deposit limit 10000:')\n",
    "        a=int(input('enter the amount:'))\n",
    "        if a<=10000:\n",
    "            print('deposit limit not exced ')\n",
    "        else:\n",
    "            if a>10000:\n",
    "                self.z+=a\n",
    "                print('updated balance:',self.z)\n",
    "    def withdraw(self):\n",
    "        b=int(input('enter the amount:'))\n",
    "        self.z-=b\n",
    "        print('withdraw the amount:',self.z)\n",
    "    def displaybalance(self):\n",
    "        print(\"Account No:\",self.x,\"Holder Name:,NEERAJ KHATRI, Balance Left:\",self.z,self.Bank_name)\n",
    "    \n",
    "    \n",
    "c=Bank_Account('12345','neeraj khatri',100000)\n",
    "d=Bank_Account('12345','neeraj khatri',100000)\n",
    "e=Bank_Account('12345','neeraj khatri',100000)\n",
    "c.deposit()\n",
    "d.withdraw()\n",
    "e.displaybalance()"
   ]
  }
 ],
 "metadata": {
  "kernelspec": {
   "display_name": "Python 3 (ipykernel)",
   "language": "python",
   "name": "python3"
  },
  "language_info": {
   "codemirror_mode": {
    "name": "ipython",
    "version": 3
   },
   "file_extension": ".py",
   "mimetype": "text/x-python",
   "name": "python",
   "nbconvert_exporter": "python",
   "pygments_lexer": "ipython3",
   "version": "3.10.9"
  }
 },
 "nbformat": 4,
 "nbformat_minor": 5
}
